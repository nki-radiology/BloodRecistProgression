{
 "cells": [
  {
   "cell_type": "code",
   "execution_count": null,
   "metadata": {
    "ExecuteTime": {
     "end_time": "2024-06-03T13:09:49.333027Z",
     "start_time": "2024-06-03T13:09:47.442482Z"
    },
    "collapsed": true
   },
   "outputs": [],
   "source": [
    "import pandas as pd\n",
    "from DataClasses import BloodData\n",
    "from KaplanMeierUtils import perform_KM_median_PFS_OS,perform_KM_blood_test_levels\n",
    "import ConfigDataset as cfg \n",
    "\n",
    "pd.set_option('display.max_rows', None)\n",
    "pd.set_option('display.max_columns', None)\n",
    "pd.set_option('display.max_colwidth', None)"
   ]
  },
  {
   "cell_type": "markdown",
   "metadata": {
    "collapsed": false,
    "pycharm": {
     "name": "#%% md\n"
    }
   },
   "source": [
    "KAPLAN MEIER (KM) ANALYSIS"
   ]
  },
  {
   "cell_type": "code",
   "execution_count": null,
   "metadata": {
    "ExecuteTime": {
     "end_time": "2023-09-20T13:37:36.418827800Z",
     "start_time": "2023-09-20T13:37:36.405807100Z"
    },
    "collapsed": false,
    "pycharm": {
     "name": "#%%\n"
    }
   },
   "outputs": [],
   "source": [
    "params=cfg.dataset_params\n",
    "params.update({\n",
    "    'keep_test_date': True,\n",
    "    'blood_data_type': 'ROUTINE',\n",
    "    'data_folder_path': r'Z:\\active_Melda\\1. Immunotherapy\\4. integration of blood and tumor markers\\Updated dataset\\Final data',\n",
    "    'output_exp_path': r'Z:\\active_Melda\\1. Immunotherapy\\4. integration of blood and tumor markers\\UpdatedResults\\routine_markers\\KM_analysis',\n",
    "    'all_data_stats_path':r'Z:\\_archive\\immunotherapy\\clinical\\4computerscientists\\dataset.xlsx'\n",
    "})\n",
    "blood_data= BloodData(**params)\n",
    "blood_data.load_data()\n"
   ]
  },
  {
   "cell_type": "markdown",
   "metadata": {
    "collapsed": false,
    "pycharm": {
     "name": "#%% md\n"
    }
   },
   "source": [
    "Median PFS and OS times"
   ]
  },
  {
   "cell_type": "code",
   "execution_count": null,
   "metadata": {
    "ExecuteTime": {
     "end_time": "2023-09-20T13:37:39.977792400Z",
     "start_time": "2023-09-20T13:37:39.439661200Z"
    },
    "collapsed": false,
    "pycharm": {
     "name": "#%%\n"
    }
   },
   "outputs": [],
   "source": [
    "perform_KM_median_PFS_OS(blood_data)"
   ]
  },
  {
   "cell_type": "markdown",
   "metadata": {
    "collapsed": false,
    "pycharm": {
     "name": "#%% md\n"
    }
   },
   "source": [
    "KM analysis based on normal and abnormal groups of the most predictive markers: ALP and CRP"
   ]
  },
  {
   "cell_type": "code",
   "execution_count": null,
   "metadata": {
    "ExecuteTime": {
     "end_time": "2023-09-20T13:38:18.820552700Z",
     "start_time": "2023-09-20T13:37:39.979788100Z"
    },
    "collapsed": false,
    "pycharm": {
     "name": "#%%\n"
    }
   },
   "outputs": [],
   "source": [
    "#inclusion_timepoints: {'late_pre_treat', 'early_treat', 'later_early_treat'}\n",
    "perform_KM_blood_test_levels(blood_data, add_2y_cutoff=True, inclusion_timepoint='late_pre_treat')\n"
   ]
  }
 ],
 "metadata": {
  "kernelspec": {
   "display_name": "Python 3",
   "language": "python",
   "name": "python3"
  },
  "language_info": {
   "codemirror_mode": {
    "name": "ipython",
    "version": 2
   },
   "file_extension": ".py",
   "mimetype": "text/x-python",
   "name": "python",
   "nbconvert_exporter": "python",
   "pygments_lexer": "ipython2",
   "version": "2.7.6"
  }
 },
 "nbformat": 4,
 "nbformat_minor": 0
}

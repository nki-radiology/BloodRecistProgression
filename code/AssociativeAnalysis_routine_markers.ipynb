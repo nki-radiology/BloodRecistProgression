{
 "cells": [
  {
   "cell_type": "code",
   "execution_count": null,
   "metadata": {
    "ExecuteTime": {
     "end_time": "2023-09-20T11:59:08.334103400Z",
     "start_time": "2023-09-20T11:59:08.299196400Z"
    },
    "collapsed": true
   },
   "outputs": [],
   "source": [
    "import os\n",
    "import pandas as pd\n",
    "import numpy as np\n",
    "from DataClasses import BloodData\n",
    "from AssociativeAnalysis import run_cox_time_varying_analysis,get_blood_df_details,normalize_blood_df\n",
    "from Utils import create_paths\n",
    "import ConfigDataset as cfg \n",
    "\n",
    "pd.set_option('display.max_rows', None)\n",
    "pd.set_option('display.max_columns', None)\n",
    "pd.set_option('display.max_colwidth', None)"
   ]
  },
  {
   "cell_type": "code",
   "execution_count": null,
   "metadata": {
    "ExecuteTime": {
     "end_time": "2023-09-20T11:59:08.335099300Z",
     "start_time": "2023-09-20T11:59:08.320139500Z"
    },
    "collapsed": false
   },
   "outputs": [],
   "source": [
    "params=cfg.dataset_params\n",
    "params.update({\n",
    "    'is_predictive': False,\n",
    "    'pred_future_timepoint': False,\n",
    "    'blood_data_type': 'ROUTINE',\n",
    "    'data_folder_path': r'./Data',\n",
    "    'output_exp_path': r'./Results/routine_markers/cox_time_varying_analysis'\n",
    "})\n",
    "blood_data= BloodData(**params)\n",
    "create_paths([blood_data.output_exp_path])"
   ]
  },
  {
   "cell_type": "code",
   "execution_count": null,
   "metadata": {
    "ExecuteTime": {
     "end_time": "2023-09-20T11:59:11.151292Z",
     "start_time": "2023-09-20T11:59:08.333105700Z"
    },
    "collapsed": false,
    "pycharm": {
     "name": "#%%\n"
    }
   },
   "outputs": [],
   "source": [
    "blood_data.load_data()\n",
    "blood_data.clean_data()\n",
    "blood_data.select_included_exams()\n",
    "blood_data.drop_unrequired_columns()\n",
    "blood_data.selected_df.shape"
   ]
  },
  {
   "cell_type": "code",
   "execution_count": null,
   "metadata": {
    "ExecuteTime": {
     "end_time": "2023-08-30T14:36:11.479335900Z",
     "start_time": "2023-08-30T14:36:11.237149300Z"
    },
    "collapsed": false,
    "pycharm": {
     "name": "#%%\n"
    }
   },
   "outputs": [],
   "source": [
    "blood_data.calc_patients_stats()"
   ]
  },
  {
   "cell_type": "code",
   "execution_count": null,
   "metadata": {
    "ExecuteTime": {
     "end_time": "2023-08-30T14:36:11.549183300Z",
     "start_time": "2023-08-30T14:36:11.479335900Z"
    },
    "collapsed": false,
    "pycharm": {
     "name": "#%%\n"
    }
   },
   "outputs": [],
   "source": [
    "blood_df, blood_markers, df_markers, df_rest = get_blood_df_details(blood_data)\n",
    "markers_scaled, df_markers_scaled = normalize_blood_df(df_markers, blood_markers)\n",
    "blood_df = df_rest.join(df_markers_scaled)"
   ]
  },
  {
   "cell_type": "markdown",
   "metadata": {
    "collapsed": false,
    "pycharm": {
     "name": "#%% md\n"
    }
   },
   "source": [
    "PROGRESSION FREE SURVIVAL"
   ]
  },
  {
   "cell_type": "code",
   "execution_count": null,
   "metadata": {
    "ExecuteTime": {
     "end_time": "2023-08-30T14:36:11.555168Z",
     "start_time": "2023-08-30T14:36:11.529237300Z"
    },
    "collapsed": false,
    "pycharm": {
     "name": "#%%\n"
    }
   },
   "outputs": [],
   "source": [
    "pfs_df = blood_df.drop(columns=['os', 'stop'])\n",
    "# Drop the exams after progression\n",
    "pfs_df = pfs_df.drop_duplicates(subset=[\"patient_ids\", \"stop_pfs\"])\n",
    "pfs_df = pfs_df.loc[np.where(pfs_df['stop_pfs'] > pfs_df['start'], True, False)]\n",
    "pfs_df.columns"
   ]
  },
  {
   "cell_type": "code",
   "execution_count": null,
   "metadata": {
    "ExecuteTime": {
     "end_time": "2023-08-30T14:36:12.354711900Z",
     "start_time": "2023-08-30T14:36:11.549183300Z"
    },
    "collapsed": false,
    "pycharm": {
     "name": "#%%\n"
    }
   },
   "outputs": [],
   "source": [
    "cox_pfs_df=run_cox_time_varying_analysis(pfs_df,blood_data.output_exp_path,event_col='pfs', stop_col='stop_pfs')\n",
    "cox_pfs_df.to_excel(os.path.join(blood_data.output_exp_path, 'pfs_cox_output.xlsx'))"
   ]
  },
  {
   "cell_type": "markdown",
   "metadata": {
    "collapsed": false,
    "pycharm": {
     "name": "#%% md\n"
    }
   },
   "source": [
    "OVERALL SURVIVAL"
   ]
  },
  {
   "cell_type": "code",
   "execution_count": null,
   "metadata": {
    "ExecuteTime": {
     "end_time": "2023-08-30T14:36:12.367937700Z",
     "start_time": "2023-08-30T14:36:12.354711900Z"
    },
    "collapsed": false,
    "pycharm": {
     "name": "#%%\n"
    }
   },
   "outputs": [],
   "source": [
    "os_df = blood_df.drop(columns=['pfs', 'stop_pfs'])\n",
    "os_df.columns"
   ]
  },
  {
   "cell_type": "code",
   "execution_count": null,
   "metadata": {
    "ExecuteTime": {
     "end_time": "2023-08-30T14:36:13.319998100Z",
     "start_time": "2023-08-30T14:36:12.363841700Z"
    },
    "collapsed": false,
    "pycharm": {
     "name": "#%%\n"
    }
   },
   "outputs": [],
   "source": [
    "cox_os_df=run_cox_time_varying_analysis(os_df,blood_data.output_exp_path, event_col='os', stop_col='stop')\n",
    "cox_os_df.to_excel(os.path.join(blood_data.output_exp_path, 'os_cox_output.xlsx'))"
   ]
  }
 ],
 "metadata": {
  "kernelspec": {
   "display_name": "Python 3",
   "language": "python",
   "name": "python3"
  },
  "language_info": {
   "codemirror_mode": {
    "name": "ipython",
    "version": 2
   },
   "file_extension": ".py",
   "mimetype": "text/x-python",
   "name": "python",
   "nbconvert_exporter": "python",
   "pygments_lexer": "ipython2",
   "version": "2.7.6"
  }
 },
 "nbformat": 4,
 "nbformat_minor": 0
}

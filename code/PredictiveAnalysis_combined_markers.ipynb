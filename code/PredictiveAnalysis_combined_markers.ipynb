{
 "cells": [
  {
   "cell_type": "code",
   "execution_count": null,
   "metadata": {
    "ExecuteTime": {
     "end_time": "2024-06-03T13:09:12.358803Z",
     "start_time": "2024-06-03T13:09:08.464796Z"
    },
    "collapsed": false,
    "pycharm": {
     "name": "#%%\n"
    }
   },
   "outputs": [],
   "source": [
    "import pandas as pd\n",
    "from DataClasses import BloodData\n",
    "from PredictiveAnalysis import run_ML_analysis\n",
    "from ResultsUtils import summarize_blood_results\n",
    "import ConfigDataset as cfg \n",
    "\n",
    "pd.set_option('display.max_rows', None)\n",
    "pd.set_option('display.max_columns', None)\n",
    "pd.set_option('display.max_colwidth', None)\n"
   ]
  },
  {
   "cell_type": "markdown",
   "metadata": {
    "collapsed": false
   },
   "source": [
    "Routine blood and tumor markers analysis"
   ]
  },
  {
   "cell_type": "markdown",
   "metadata": {},
   "source": [
    "Prediction of current progression:"
   ]
  },
  {
   "cell_type": "code",
   "execution_count": null,
   "metadata": {
    "ExecuteTime": {
     "end_time": "2024-02-24T15:04:48.789674100Z",
     "start_time": "2024-02-24T15:04:48.770724700Z"
    },
    "collapsed": false,
    "pycharm": {
     "name": "#%%\n"
    }
   },
   "outputs": [],
   "source": [
    "SEEDS=range(100, 200)\n",
    "\n",
    "params=cfg.dataset_params\n",
    "params.update({\n",
    "    'is_predictive': True,\n",
    "    'pred_future_timepoint': False,\n",
    "    'blood_data_type': 'ROUTINE_AND_TUMOR_MARKERS',\n",
    "     'data_folder_path': r'./Data',\n",
    "    'output_exp_path': r'./Results/routine_and_tumor_markers/current_progression_analysis'\n",
    "    })\n",
    "blood_data= BloodData(**params)\n"
   ]
  },
  {
   "cell_type": "code",
   "execution_count": null,
   "metadata": {
    "ExecuteTime": {
     "end_time": "2024-02-24T15:04:52.838112900Z",
     "start_time": "2024-02-24T15:04:51.243431300Z"
    },
    "collapsed": false,
    "pycharm": {
     "name": "#%%\n"
    }
   },
   "outputs": [],
   "source": [
    "blood_data.load_data()\n",
    "blood_data.clean_data()\n",
    "blood_data.select_included_exams()\n",
    "blood_data.drop_unrequired_columns()\n",
    "blood_data.targets"
   ]
  },
  {
   "cell_type": "code",
   "execution_count": null,
   "metadata": {
    "ExecuteTime": {
     "end_time": "2024-02-24T15:06:49.600750Z",
     "start_time": "2024-02-24T15:06:48.937574600Z"
    },
    "collapsed": false,
    "pycharm": {
     "name": "#%%\n"
    }
   },
   "outputs": [],
   "source": [
    "blood_data.calc_patients_stats()"
   ]
  },
  {
   "cell_type": "markdown",
   "metadata": {
    "collapsed": false
   },
   "source": [
    "Training ML models for current progression prediction"
   ]
  },
  {
   "cell_type": "code",
   "execution_count": null,
   "metadata": {
    "ExecuteTime": {
     "end_time": "2023-08-30T17:35:22.986431Z",
     "start_time": "2023-08-30T14:39:14.282128700Z"
    },
    "collapsed": false,
    "pycharm": {
     "name": "#%%\n"
    }
   },
   "outputs": [],
   "source": [
    "run_ML_analysis(blood_data_instance=blood_data, seeds=SEEDS, enable_shap=True, models=['RF'])"
   ]
  },
  {
   "cell_type": "markdown",
   "metadata": {
    "collapsed": false
   },
   "source": [
    "Results"
   ]
  },
  {
   "cell_type": "code",
   "execution_count": null,
   "metadata": {
    "ExecuteTime": {
     "end_time": "2024-02-24T15:09:12.755201200Z",
     "start_time": "2024-02-24T15:09:11.910269100Z"
    },
    "collapsed": false,
    "pycharm": {
     "name": "#%%\n"
    }
   },
   "outputs": [],
   "source": [
    "_=summarize_blood_results(blood_data.output_exp_path, models=['RF'], metric_col=['roc_auc', 'sensit','specif', 'ppv', 'npv'])"
   ]
  },
  {
   "cell_type": "markdown",
   "metadata": {
    "collapsed": false
   },
   "source": [
    "Prediction of future progression (PFS) and prediction of overall survival (OS) using PFS models"
   ]
  },
  {
   "cell_type": "code",
   "execution_count": null,
   "metadata": {
    "ExecuteTime": {
     "end_time": "2024-02-24T15:20:41.041218200Z",
     "start_time": "2024-02-24T15:20:41.024234900Z"
    },
    "collapsed": false,
    "pycharm": {
     "name": "#%%\n"
    }
   },
   "outputs": [],
   "source": [
    "blood_data.pred_future_timepoint= True\n",
    "blood_data.os_from_pfs= True\n",
    "blood_data.set_targets()\n",
    "blood_data.output_exp_path=blood_data.output_exp_path.replace('current_progression_analysis','future_pfs_analysis')\n",
    "blood_data.targets"
   ]
  },
  {
   "cell_type": "code",
   "execution_count": null,
   "metadata": {
    "ExecuteTime": {
     "end_time": "2024-02-24T15:20:49.090222200Z",
     "start_time": "2024-02-24T15:20:49.072942Z"
    },
    "collapsed": false,
    "pycharm": {
     "name": "#%%\n"
    }
   },
   "outputs": [],
   "source": [
    "blood_data.select_included_exams()\n",
    "blood_data.drop_unrequired_columns()\n",
    "blood_data.selected_df.columns\n",
    "blood_data.calc_patients_stats()"
   ]
  },
  {
   "cell_type": "markdown",
   "metadata": {
    "collapsed": false
   },
   "source": [
    "Training ML models for future progression prediction"
   ]
  },
  {
   "cell_type": "code",
   "execution_count": null,
   "metadata": {
    "ExecuteTime": {
     "end_time": "2023-08-31T04:29:02.003614200Z",
     "start_time": "2023-08-30T17:35:23.818606200Z"
    },
    "collapsed": false,
    "pycharm": {
     "name": "#%%\n"
    }
   },
   "outputs": [],
   "source": [
    "run_ML_analysis(blood_data_instance=blood_data, seeds=SEEDS, enable_shap=True)"
   ]
  },
  {
   "cell_type": "markdown",
   "metadata": {
    "collapsed": false
   },
   "source": [
    "Results"
   ]
  },
  {
   "cell_type": "code",
   "execution_count": null,
   "metadata": {
    "ExecuteTime": {
     "end_time": "2024-02-24T15:21:48.529821300Z",
     "start_time": "2024-02-24T15:21:46.704326Z"
    },
    "collapsed": false,
    "pycharm": {
     "name": "#%%\n"
    }
   },
   "outputs": [],
   "source": [
    "_=summarize_blood_results(blood_data.output_exp_path, models=['RF'], metric_col=['roc_auc', 'sensit','specif', 'ppv', 'npv'])"
   ]
  },
  {
   "cell_type": "markdown",
   "metadata": {
    "collapsed": false
   },
   "source": [
    "OS from PFS models results"
   ]
  },
  {
   "cell_type": "code",
   "execution_count": null,
   "metadata": {
    "ExecuteTime": {
     "end_time": "2023-08-31T04:29:02.518727100Z",
     "start_time": "2023-08-31T04:29:02.510749600Z"
    },
    "collapsed": false
   },
   "outputs": [],
   "source": [
    "os_output_exp_path = f\"{blood_data.output_exp_path}_OS_from_PFS\"\n",
    "_=summarize_blood_results(os_output_exp_path)"
   ]
  },
  {
   "cell_type": "markdown",
   "metadata": {
    "collapsed": false
   },
   "source": [
    "Sub-analysis:\n",
    "Prediction of future progression for patients not experiencing progression due to death"
   ]
  },
  {
   "cell_type": "code",
   "execution_count": null,
   "metadata": {
    "ExecuteTime": {
     "end_time": "2023-08-31T04:29:03.172728500Z",
     "start_time": "2023-08-31T04:29:03.136793200Z"
    },
    "collapsed": false,
    "pycharm": {
     "name": "#%%\n"
    }
   },
   "outputs": [],
   "source": [
    "blood_data.os_from_pfs= True\n",
    "blood_data.output_exp_path=blood_data.output_exp_path.replace('future_pfs_analysis', 'pfs_excluded_prog_due_to_death')\n",
    "blood_data.exclude_progressed_due_to_death_patients()\n",
    "blood_data.calc_patients_stats()"
   ]
  },
  {
   "cell_type": "markdown",
   "metadata": {
    "collapsed": false
   },
   "source": [
    "Train the models"
   ]
  },
  {
   "cell_type": "code",
   "execution_count": null,
   "metadata": {
    "ExecuteTime": {
     "end_time": "2023-08-31T14:50:11.496969200Z",
     "start_time": "2023-08-31T04:29:03.898770600Z"
    },
    "collapsed": false,
    "pycharm": {
     "name": "#%%\n"
    }
   },
   "outputs": [],
   "source": [
    "run_ML_analysis(blood_data_instance=blood_data, seeds=SEEDS, enable_shap=True)"
   ]
  },
  {
   "cell_type": "markdown",
   "metadata": {
    "collapsed": false
   },
   "source": [
    "Results"
   ]
  },
  {
   "cell_type": "code",
   "execution_count": null,
   "metadata": {
    "ExecuteTime": {
     "end_time": "2023-08-31T14:50:12.270899200Z",
     "start_time": "2023-08-31T14:50:11.530878300Z"
    },
    "collapsed": false,
    "pycharm": {
     "name": "#%%\n"
    }
   },
   "outputs": [],
   "source": [
    "_=summarize_blood_results(blood_data.output_exp_path)"
   ]
  },
  {
   "cell_type": "markdown",
   "metadata": {
    "collapsed": false
   },
   "source": [
    "OS from PFS"
   ]
  },
  {
   "cell_type": "code",
   "execution_count": null,
   "metadata": {
    "ExecuteTime": {
     "end_time": "2023-08-31T14:50:12.280872100Z",
     "start_time": "2023-08-31T14:50:12.271896200Z"
    },
    "collapsed": false
   },
   "outputs": [],
   "source": [
    "os_output_exp_path = f\"{blood_data.output_exp_path}_OS_from_PFS\"\n",
    "_=summarize_blood_results(os_output_exp_path)"
   ]
  }
 ],
 "metadata": {
  "kernelspec": {
   "display_name": "Python 3",
   "language": "python",
   "name": "python3"
  },
  "language_info": {
   "codemirror_mode": {
    "name": "ipython",
    "version": 2
   },
   "file_extension": ".py",
   "mimetype": "text/x-python",
   "name": "python",
   "nbconvert_exporter": "python",
   "pygments_lexer": "ipython2",
   "version": "2.7.6"
  }
 },
 "nbformat": 4,
 "nbformat_minor": 0
}
